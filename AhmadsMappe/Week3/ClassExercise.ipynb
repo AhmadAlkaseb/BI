{
 "cells": [
  {
   "cell_type": "code",
   "execution_count": 1,
   "id": "ba5a5110-f285-476d-994a-5edcb03d6a5f",
   "metadata": {},
   "outputs": [],
   "source": [
    "sum = 14 * 1 + 15 * 1 + 16 * 2 + 17 * 5 + 18 * 6 + 19 * 3 + 6 * 20 + 21 * 2 + 22 + 23 + 24 * 2 + 29"
   ]
  },
  {
   "cell_type": "code",
   "execution_count": 5,
   "id": "455580c9-916d-405a-9e55-60901ae2ee22",
   "metadata": {},
   "outputs": [
    {
     "data": {
      "text/plain": [
       "595"
      ]
     },
     "execution_count": 5,
     "metadata": {},
     "output_type": "execute_result"
    }
   ],
   "source": [
    "# The sum\n",
    "sum"
   ]
  },
  {
   "cell_type": "code",
   "execution_count": 13,
   "id": "b7760298-5bc1-435f-810d-67cebe5cf7f2",
   "metadata": {},
   "outputs": [
    {
     "data": {
      "text/plain": [
       "31"
      ]
     },
     "execution_count": 13,
     "metadata": {},
     "output_type": "execute_result"
    }
   ],
   "source": [
    "# The count\n",
    "count = 31\n",
    "count"
   ]
  },
  {
   "cell_type": "code",
   "execution_count": 11,
   "id": "9f323423-9eeb-4ff7-88ae-737f6f943dfc",
   "metadata": {},
   "outputs": [
    {
     "data": {
      "text/plain": [
       "19.193548387096776"
      ]
     },
     "execution_count": 11,
     "metadata": {},
     "output_type": "execute_result"
    }
   ],
   "source": [
    "# The mean\n",
    "mean = 595/31\n",
    "mean"
   ]
  },
  {
   "cell_type": "code",
   "execution_count": 15,
   "id": "12291861-1c5e-40b6-8278-e281842532d1",
   "metadata": {},
   "outputs": [],
   "source": [
    "# median\n",
    "median = 16"
   ]
  },
  {
   "cell_type": "code",
   "execution_count": 17,
   "id": "c2479d78-6142-4e35-97c6-e77eb56584c4",
   "metadata": {},
   "outputs": [],
   "source": [
    "# mode\n",
    "mode = 20"
   ]
  },
  {
   "cell_type": "code",
   "execution_count": 61,
   "id": "662a8529-1229-4988-bf49-bf577d518d28",
   "metadata": {},
   "outputs": [
    {
     "name": "stdout",
     "output_type": "stream",
     "text": [
      "Sum: 595\n",
      "Count: 31\n",
      "Mean: 19.193548387096776\n",
      "Median: 19.0\n",
      "Mode: ModeResult(mode=18, count=6)\n",
      "Variance: 8.801248699271591\n",
      "Standard Deviation: 2.96668985559185\n"
     ]
    }
   ],
   "source": [
    "import numpy as np\n",
    "from scipy import stats\n",
    "\n",
    "# Given array\n",
    "arr = np.array([14, 15, 16, 16, 17, 17, 17, 17, 17, 18, 18, 18, 18, 18, 18, 19, 19, 19, 20, 20, 20, 20, 20, 20, 21, 21, 22, 23, 24, 24, 29])\n",
    "\n",
    "# Calculations\n",
    "sum_arr = np.sum(arr)\n",
    "count_arr = len(arr)\n",
    "mean_arr = np.mean(arr)\n",
    "median_arr = np.median(arr)\n",
    "mode_arr = stats.mode(arr)\n",
    "variance_arr = np.var(arr)\n",
    "std_deviation_arr = np.std(arr)\n",
    "\n",
    "# Output results\n",
    "print(f\"Sum: {sum_arr}\")\n",
    "print(f\"Count: {count_arr}\")\n",
    "print(f\"Mean: {mean_arr}\")\n",
    "print(f\"Median: {median_arr}\")\n",
    "print(f\"Mode: {mode_arr}\")\n",
    "print(f\"Variance: {variance_arr}\")\n",
    "print(f\"Standard Deviation: {std_deviation_arr}\")\n"
   ]
  },
  {
   "cell_type": "code",
   "execution_count": 73,
   "id": "9e7cd39f-402e-4807-ae21-b87b131e683e",
   "metadata": {},
   "outputs": [
    {
     "data": {
      "image/png": "[encoded data removed]",
      "text/plain": [
       "<Figure size 640x480 with 1 Axes>"
      ]
     },
     "metadata": {},
     "output_type": "display_data"
    }
   ],
   "source": [
    "import matplotlib.pyplot as plt\n",
    "\n",
    "# Given array\n",
    "arr = [14, 15, 16, 16, 17, 17, 17, 17, 17, 18, 18, 18, 18, 18, 18, 19, 19, 19, 20, 20, 20, 20, 20, 20, 21, 21, 22, 23, 24, 24, 29]\n",
    "\n",
    "# Create a simple box plot\n",
    "\n",
    "plt.boxplot(arr, vert=False)\n",
    "plt.show()"
   ]
  },
  {
   "cell_type": "code",
   "execution_count": null,
   "id": "640900c2-3649-4958-bd26-0e0215bcc848",
   "metadata": {},
   "outputs": [],
   "source": []
  }
 ],
 "metadata": {
  "kernelspec": {
   "display_name": "Python 3 (ipykernel)",
   "language": "python",
   "name": "python3"
  },
  "language_info": {
   "codemirror_mode": {
    "name": "ipython",
    "version": 3
   },
   "file_extension": ".py",
   "mimetype": "text/x-python",
   "name": "python",
   "nbconvert_exporter": "python",
   "pygments_lexer": "ipython3",
   "version": "3.12.4"
  }
 },
 "nbformat": 4,
 "nbformat_minor": 5
}
