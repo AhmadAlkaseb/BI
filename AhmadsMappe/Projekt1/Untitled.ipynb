{
 "cells": [
  {
   "cell_type": "markdown",
   "id": "90492ff6-540f-47a1-bb73-fcb88aa148e8",
   "metadata": {},
   "source": [
    "# How to extract data from JSON"
   ]
  },
  {
   "cell_type": "code",
   "execution_count": 91,
   "id": "9d7cc176-28aa-404d-9283-2feb8508a4d2",
   "metadata": {},
   "outputs": [],
   "source": [
    "# Start med at importere json biblioteket\n",
    "import requests\n",
    "import pandas as pd"
   ]
  },
  {
   "cell_type": "code",
   "execution_count": 93,
   "id": "282507c4-b0ed-413f-86a9-1f7422ec51b8",
   "metadata": {},
   "outputs": [],
   "source": [
    "# Vælg et api\n",
    "url = \"https://randomuser.me/api/\" \n",
    "response = requests.get(url)"
   ]
  },
  {
   "cell_type": "code",
   "execution_count": 94,
   "id": "18db2a25-d080-4bc5-bb74-27a262a834fe",
   "metadata": {},
   "outputs": [],
   "source": [
    "# få fat i daten\n",
    "data = response.json()"
   ]
  },
  {
   "cell_type": "code",
   "execution_count": 99,
   "id": "36253220-9ca8-42a5-8fa6-c1c792cb2bec",
   "metadata": {},
   "outputs": [
    {
     "name": "stdout",
     "output_type": "stream",
     "text": [
      "                                             results         info.seed  \\\n",
      "0  [{'gender': 'male', 'name': {'title': 'Mr', 'f...  125364587ff8005f   \n",
      "\n",
      "   info.results  info.page info.version  \n",
      "0             1          1          1.4  \n"
     ]
    }
   ],
   "source": [
    "from pandas import json_normalize\n",
    "\n",
    "# Hvis dataen er en liste af dictionaries med potentielt indlejrede strukturer\n",
    "if isinstance(data, list):\n",
    "    df = json_normalize(data)\n",
    "else:\n",
    "    # Hvis det er en enkelt dictionary med komplekse indlejrede strukturer\n",
    "    df = json_normalize(data)\n",
    "\n",
    "print(df.head())"
   ]
  },
  {
   "cell_type": "code",
   "execution_count": 107,
   "id": "d5a35558-7ade-4262-8cfa-badbe28439ad",
   "metadata": {},
   "outputs": [
    {
     "name": "stdout",
     "output_type": "stream",
     "text": [
      "                                             results         info.seed  \\\n",
      "0  [{'gender': 'male', 'name': {'title': 'Mr', 'f...  125364587ff8005f   \n",
      "\n",
      "   info.results  info.page info.version  \n",
      "0             1          1          1.4  \n",
      "<class 'pandas.core.frame.DataFrame'>\n",
      "RangeIndex: 1 entries, 0 to 0\n",
      "Data columns (total 5 columns):\n",
      " #   Column        Non-Null Count  Dtype \n",
      "---  ------        --------------  ----- \n",
      " 0   results       1 non-null      object\n",
      " 1   info.seed     1 non-null      object\n",
      " 2   info.results  1 non-null      int64 \n",
      " 3   info.page     1 non-null      int64 \n",
      " 4   info.version  1 non-null      object\n",
      "dtypes: int64(2), object(3)\n",
      "memory usage: 172.0+ bytes\n",
      "None\n"
     ]
    }
   ],
   "source": [
    "# Se de første par rækker\n",
    "print(df.head())\n",
    "\n",
    "# Få en oversigt over DataFrame\n",
    "print(df.info())"
   ]
  },
  {
   "cell_type": "code",
   "execution_count": null,
   "id": "84cd7638-410c-4943-a4f7-b7b4ee5b4e76",
   "metadata": {},
   "outputs": [],
   "source": []
  },
  {
   "cell_type": "code",
   "execution_count": null,
   "id": "69d5da69-8ed6-4ec9-b225-967b7d62e4fb",
   "metadata": {},
   "outputs": [],
   "source": []
  }
 ],
 "metadata": {
  "kernelspec": {
   "display_name": "Python 3 (ipykernel)",
   "language": "python",
   "name": "python3"
  },
  "language_info": {
   "codemirror_mode": {
    "name": "ipython",
    "version": 3
   },
   "file_extension": ".py",
   "mimetype": "text/x-python",
   "name": "python",
   "nbconvert_exporter": "python",
   "pygments_lexer": "ipython3",
   "version": "3.12.4"
  }
 },
 "nbformat": 4,
 "nbformat_minor": 5
}
