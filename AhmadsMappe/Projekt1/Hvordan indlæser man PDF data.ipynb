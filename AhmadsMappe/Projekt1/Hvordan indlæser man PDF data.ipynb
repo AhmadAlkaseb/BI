{
 "cells": [
  {
   "cell_type": "markdown",
   "id": "c9c37048-b98e-426e-8683-2636260d5b1b",
   "metadata": {},
   "source": [
    "# Hvordan indlæser man PDF data?\n",
    "#### Kildehenvisning: https://saturncloud.io/blog/how-to-open-a-pdf-and-read-in-tables-with-python-pandas/"
   ]
  },
  {
   "cell_type": "code",
   "execution_count": 31,
   "id": "56ba59f2-6d5f-49c7-b8c8-b06c6af7b5b7",
   "metadata": {},
   "outputs": [],
   "source": [
    "# Start med at importere de nødvendige biblioteker (HUSK at installere PyPDF2 via evvironments)\n",
    "import re\n",
    "import PyPDF2\n",
    "import pandas as pd"
   ]
  },
  {
   "cell_type": "code",
   "execution_count": 33,
   "id": "7fda66f7-8601-43bf-af10-ac4a248b42b9",
   "metadata": {},
   "outputs": [],
   "source": [
    "# Koden forneden er et af mange eksempler på, hvordan man hiver dataen ud fra en pdf-fil og omskriver den til tabeller i pandas dataframe\n",
    "\n",
    "# Define a regular expression to match tables\n",
    "table_regex = r'(?s)\\b(?:\\w+\\s+){2,}\\w+\\b(?:\\s*[,;]\\s*\\b(?:\\w+\\s+){2,}\\w+\\b)*'\n",
    "\n",
    "# Open the PDF file in read-binary mode\n",
    "with open('example.pdf', 'rb') as f:\n",
    "    # Create a PDF reader object\n",
    "    pdf_reader = PyPDF2.PdfReader(f)\n",
    "    \n",
    "    # Get the number of pages in the PDF file\n",
    "    num_pages = len(pdf_reader.pages)\n",
    "    \n",
    "    # Loop through each page in the PDF file\n",
    "    for page_num in range(num_pages):\n",
    "        # Get the current page object\n",
    "        page = pdf_reader.pages[page_num]\n",
    "        \n",
    "        # Extract the text from the current page\n",
    "        page_text = page.extract_text()\n",
    "        \n",
    "        # Find all tables in page_text\n",
    "        tables = re.findall(table_regex, page_text)\n",
    "        \n",
    "        # Loop through each table and create a pandas DataFrame\n",
    "        for table in tables:\n",
    "            # Split the table into rows\n",
    "            rows = table.strip().split('\\n')\n",
    "            \n",
    "            # Split the rows into cells\n",
    "            cells = [row.split('|') for row in rows]\n",
    "            \n",
    "            # Remove leading and trailing whitespace from cells\n",
    "            cells = [[cell.strip() for cell in row] for row in cells]\n",
    "            \n",
    "            # Remove empty rows and columns\n",
    "            cells = [[cell for cell in row if cell] for row in cells if row]\n",
    "            \n",
    "            # Create a pandas DataFrame from the cells\n",
    "            df = pd.DataFrame(cells[1:], columns=cells[0])"
   ]
  },
  {
   "cell_type": "code",
   "execution_count": 35,
   "id": "be4b64fc-c26b-49d7-948d-a35201c6e12a",
   "metadata": {},
   "outputs": [],
   "source": [
    "# Print dataframmet ud\n",
    "# df\n",
    "\n",
    "# Hvilke kolonner findes der?\n",
    "# df.columns\n",
    "\n",
    "# De første fem rækker\n",
    "# df.head()\n",
    "\n",
    "# De sidste fem rækker\n",
    "# df.tail()\n",
    "\n",
    "# Tilfældige fem rækker\n",
    "# df.sample(5)"
   ]
  }
 ],
 "metadata": {
  "kernelspec": {
   "display_name": "Python 3 (ipykernel)",
   "language": "python",
   "name": "python3"
  },
  "language_info": {
   "codemirror_mode": {
    "name": "ipython",
    "version": 3
   },
   "file_extension": ".py",
   "mimetype": "text/x-python",
   "name": "python",
   "nbconvert_exporter": "python",
   "pygments_lexer": "ipython3",
   "version": "3.12.4"
  }
 },
 "nbformat": 4,
 "nbformat_minor": 5
}
