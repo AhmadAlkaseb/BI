{
 "cells": [
  {
   "cell_type": "markdown",
   "id": "86e3125a-8d56-4d50-84b4-562bec79c3a3",
   "metadata": {},
   "source": [
    "# Hvordan indlæser man JSON data?\n",
    "#### Kildehenvisning: https://saturncloud.io/blog/how-to-access-a-json-column-with-pandas/"
   ]
  },
  {
   "cell_type": "code",
   "execution_count": 11,
   "id": "21cdaf30-8d74-49c7-a931-7e375b614b57",
   "metadata": {},
   "outputs": [],
   "source": [
    "# Start med at importere pandas biblioteket\n",
    "import pandas as pd"
   ]
  },
  {
   "cell_type": "code",
   "execution_count": 13,
   "id": "f19d89f1-a145-4033-9560-66039370830b",
   "metadata": {},
   "outputs": [],
   "source": [
    "# Hvor skal dataen hentes fra?\n",
    "url = ('http://universities.hipolabs.com/search?country=Denmark')"
   ]
  },
  {
   "cell_type": "code",
   "execution_count": 15,
   "id": "748eeec1-edfe-48ab-b609-a1355e45e6d2",
   "metadata": {},
   "outputs": [],
   "source": [
    "# Hiv dataen ud og sæt det ind i pandas dataframe\n",
    "df = pd.read_json(url)"
   ]
  },
  {
   "cell_type": "code",
   "execution_count": 37,
   "id": "07ea4d1c-4422-4e57-ad04-a20b3fef628f",
   "metadata": {},
   "outputs": [],
   "source": [
    "# Print dataframmet ud\n",
    "# df\n",
    "\n",
    "# Hvilke kolonner findes der?\n",
    "# df.columns\n",
    "\n",
    "# De første fem rækker\n",
    "# df.head()\n",
    "\n",
    "# De sidste fem rækker\n",
    "# df.tail()\n",
    "\n",
    "# Tilfældige fem rækker\n",
    "# df.sample(5)"
   ]
  },
  {
   "cell_type": "code",
   "execution_count": null,
   "id": "6e246916-0147-4ef2-9582-9c07d544b31d",
   "metadata": {},
   "outputs": [],
   "source": []
  }
 ],
 "metadata": {
  "kernelspec": {
   "display_name": "Python 3 (ipykernel)",
   "language": "python",
   "name": "python3"
  },
  "language_info": {
   "codemirror_mode": {
    "name": "ipython",
    "version": 3
   },
   "file_extension": ".py",
   "mimetype": "text/x-python",
   "name": "python",
   "nbconvert_exporter": "python",
   "pygments_lexer": "ipython3",
   "version": "3.12.4"
  }
 },
 "nbformat": 4,
 "nbformat_minor": 5
}
