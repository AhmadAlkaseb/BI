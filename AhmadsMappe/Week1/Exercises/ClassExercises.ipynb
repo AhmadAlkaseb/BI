{
 "cells": [
  {
   "cell_type": "markdown",
   "id": "5451029b-f641-4b34-a9ad-1b07f65fc600",
   "metadata": {},
   "source": [
    "# Kitkat exercise"
   ]
  },
  {
   "cell_type": "code",
   "execution_count": 85,
   "id": "c078e07a-630f-4ec4-953a-fe4778407f1d",
   "metadata": {},
   "outputs": [
    {
     "data": {
      "text/plain": [
       "True"
      ]
     },
     "execution_count": 85,
     "metadata": {},
     "output_type": "execute_result"
    }
   ],
   "source": [
    "import webbrowser, time\n",
    "\n",
    "myURL = \"https://www.youtube.com/watch?v=gC_VkZeNywM\"\n",
    "start_time = 4\n",
    "\n",
    "url_with_timestamp = f\"{myURL}&t={start_time}s\"\n",
    "\n",
    "webbrowser.open(url_with_timestamp)"
   ]
  },
  {
   "cell_type": "code",
   "execution_count": 87,
   "id": "420c337f-4e29-4275-8340-b98ef123d988",
   "metadata": {},
   "outputs": [
    {
     "data": {
      "text/plain": [
       "True"
      ]
     },
     "execution_count": 87,
     "metadata": {},
     "output_type": "execute_result"
    }
   ],
   "source": [
    "time.sleep(5); \n",
    "\n",
    "\n",
    "webbrowser.open(\"https://www.youtube.com/watch?v=gC_VkZeNywM\")"
   ]
  },
  {
   "cell_type": "markdown",
   "id": "7cd53f0f-f2d8-4206-99c9-4d50b321c00d",
   "metadata": {},
   "source": [
    "# Secret message"
   ]
  },
  {
   "cell_type": "code",
   "execution_count": 106,
   "id": "b750ce45-1c51-4c2e-9194-f9a2d561c435",
   "metadata": {},
   "outputs": [
    {
     "name": "stdout",
     "output_type": "stream",
     "text": [
      "Renamed: athens.jpg -> athens.jpg\n",
      "Renamed: austin.jpg -> austin.jpg\n",
      "Renamed: bangalore.jpg -> bangalore.jpg\n",
      "Renamed: barcelona.jpg -> barcelona.jpg\n",
      "Renamed: beijing.jpg -> beijing.jpg\n",
      "Renamed: berkeley.jpg -> berkeley.jpg\n",
      "Renamed: bogota.jpg -> bogota.jpg\n",
      "Renamed: bristol.jpg -> bristol.jpg\n",
      "Renamed: bucharest.jpg -> bucharest.jpg\n",
      "Renamed: buenos aires.jpg -> buenos aires.jpg\n",
      "Renamed: cairo.jpg -> cairo.jpg\n",
      "Renamed: chennai.jpg -> chennai.jpg\n",
      "Renamed: chicago.jpg -> chicago.jpg\n",
      "Renamed: colombo.jpg -> colombo.jpg\n",
      "Renamed: dallas.jpg -> dallas.jpg\n",
      "Renamed: delhi.jpg -> delhi.jpg\n",
      "Renamed: edinbrugh.jpg -> edinbrugh.jpg\n",
      "Renamed: gainesville.jpg -> gainesville.jpg\n",
      "Renamed: houston.jpg -> houston.jpg\n",
      "Renamed: hyderabad.jpg -> hyderabad.jpg\n",
      "Renamed: istanbul.jpg -> istanbul.jpg\n",
      "Renamed: ithaca.jpg -> ithaca.jpg\n",
      "Renamed: jacksonville.jpg -> jacksonville.jpg\n",
      "Renamed: karachi.jpg -> karachi.jpg\n",
      "Renamed: kiev.jpg -> kiev.jpg\n",
      "Renamed: london.jpg -> london.jpg\n",
      "Renamed: los angeles.jpg -> los angeles.jpg\n",
      "Renamed: madrid.jpg -> madrid.jpg\n",
      "Renamed: manchester.jpg -> manchester.jpg\n",
      "Renamed: miami.jpg -> miami.jpg\n",
      "Renamed: new york.jpg -> new york.jpg\n",
      "Renamed: oakland.jpg -> oakland.jpg\n",
      "Renamed: pune.jpg -> pune.jpg\n",
      "Renamed: rochester.jpg -> rochester.jpg\n",
      "Renamed: san diego.jpg -> san diego.jpg\n",
      "Renamed: san jose.jpg -> san jose.jpg\n",
      "Renamed: sao paulo.jpg -> sao paulo.jpg\n",
      "Renamed: seattle.jpg -> seattle.jpg\n",
      "Renamed: seoul.jpg -> seoul.jpg\n",
      "Renamed: shanghai.jpg -> shanghai.jpg\n",
      "Renamed: singapore.jpg -> singapore.jpg\n",
      "Renamed: sunnyvale.jpg -> sunnyvale.jpg\n",
      "Renamed: sydney.jpg -> sydney.jpg\n",
      "Renamed: tel aviv.jpg -> tel aviv.jpg\n"
     ]
    }
   ],
   "source": [
    "import os  \n",
    "import re  \n",
    "\n",
    "def rename_files_in_folder(folder_path):\n",
    "    # Iterate over each filename in the specified directory\n",
    "    for filename in os.listdir(folder_path):\n",
    "        # Construct the full path of the current file\n",
    "        file_path = os.path.join(folder_path, filename)\n",
    "        \n",
    "        # Check if the path refers to a file (not a directory or other type)\n",
    "        if os.path.isfile(file_path):\n",
    "            # Remove all digits from the filename\n",
    "            new_filename = re.sub(r'\\d+', '', filename)\n",
    "            \n",
    "            # Rename the file from its old name to the new name (with digits removed)\n",
    "            os.rename(file_path, os.path.join(folder_path, new_filename))\n",
    "            \n",
    "            # Print a message showing the old and new filenames\n",
    "            print(f'Renamed: {filename} -> {new_filename}')\n",
    "\n",
    "# Example usage: Call the function with the folder path 'prank'\n",
    "rename_files_in_folder('prank')"
   ]
  },
  {
   "cell_type": "markdown",
   "id": "53f6a7d4-5dcb-4bba-b38e-9c0aa7df8c1a",
   "metadata": {},
   "source": [
    "# Message\n",
    "Keys are in the closet behind the shoe box."
   ]
  },
  {
   "cell_type": "code",
   "execution_count": null,
   "id": "8372934e-fed2-4965-a806-eae9fef47c39",
   "metadata": {},
   "outputs": [],
   "source": []
  }
 ],
 "metadata": {
  "kernelspec": {
   "display_name": "Python 3 (ipykernel)",
   "language": "python",
   "name": "python3"
  },
  "language_info": {
   "codemirror_mode": {
    "name": "ipython",
    "version": 3
   },
   "file_extension": ".py",
   "mimetype": "text/x-python",
   "name": "python",
   "nbconvert_exporter": "python",
   "pygments_lexer": "ipython3",
   "version": "3.12.4"
  }
 },
 "nbformat": 4,
 "nbformat_minor": 5
}
