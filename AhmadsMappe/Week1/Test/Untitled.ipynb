{
 "cells": [
  {
   "cell_type": "code",
   "execution_count": 3,
   "id": "feb95e20-e0f5-4bff-936d-4453f0f26210",
   "metadata": {},
   "outputs": [],
   "source": [
    "c=0"
   ]
  },
  {
   "cell_type": "code",
   "execution_count": 5,
   "id": "804ac2d5-cd6d-445a-a1ea-0fb22478d925",
   "metadata": {},
   "outputs": [
    {
     "data": {
      "text/plain": [
       "0"
      ]
     },
     "execution_count": 5,
     "metadata": {},
     "output_type": "execute_result"
    }
   ],
   "source": [
    "c"
   ]
  },
  {
   "cell_type": "code",
   "execution_count": 9,
   "id": "8a5419d6-47a0-40dc-bb64-988ddbe2cb39",
   "metadata": {},
   "outputs": [],
   "source": [
    "a=c+5 "
   ]
  },
  {
   "cell_type": "code",
   "execution_count": 13,
   "id": "caae5772-325c-416f-8f95-8b7581b93882",
   "metadata": {},
   "outputs": [
    {
     "data": {
      "text/plain": [
       "5"
      ]
     },
     "execution_count": 13,
     "metadata": {},
     "output_type": "execute_result"
    }
   ],
   "source": [
    "a=c+5\n",
    "c\n",
    "a"
   ]
  },
  {
   "cell_type": "markdown",
   "id": "654bb26f-8985-489a-85df-e22e249c7afd",
   "metadata": {},
   "source": [
    "# title"
   ]
  },
  {
   "cell_type": "code",
   "execution_count": null,
   "id": "9aa0f834-cf04-49da-9399-d70615bf82dd",
   "metadata": {},
   "outputs": [],
   "source": [
    "c"
   ]
  }
 ],
 "metadata": {
  "kernelspec": {
   "display_name": "Python 3 (ipykernel)",
   "language": "python",
   "name": "python3"
  },
  "language_info": {
   "codemirror_mode": {
    "name": "ipython",
    "version": 3
   },
   "file_extension": ".py",
   "mimetype": "text/x-python",
   "name": "python",
   "nbconvert_exporter": "python",
   "pygments_lexer": "ipython3",
   "version": "3.12.4"
  }
 },
 "nbformat": 4,
 "nbformat_minor": 5
}
