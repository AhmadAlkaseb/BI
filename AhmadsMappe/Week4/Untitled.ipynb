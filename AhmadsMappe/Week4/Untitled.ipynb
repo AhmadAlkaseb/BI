{
 "cells": [
  {
   "cell_type": "code",
   "execution_count": 7,
   "id": "a5f052ed-db50-4dd8-a926-1ad4ee482cef",
   "metadata": {},
   "outputs": [
    {
     "data": {
      "text/plain": [
       "-118.96000000000001"
      ]
     },
     "execution_count": 7,
     "metadata": {},
     "output_type": "execute_result"
    }
   ],
   "source": [
    "b = -30.69*5+34.49\n",
    "b"
   ]
  },
  {
   "cell_type": "code",
   "execution_count": null,
   "id": "ed59064f-d75f-4a47-b6d6-1677fafd1546",
   "metadata": {},
   "outputs": [],
   "source": []
  }
 ],
 "metadata": {
  "kernelspec": {
   "display_name": "Python 3 (ipykernel)",
   "language": "python",
   "name": "python3"
  },
  "language_info": {
   "codemirror_mode": {
    "name": "ipython",
    "version": 3
   },
   "file_extension": ".py",
   "mimetype": "text/x-python",
   "name": "python",
   "nbconvert_exporter": "python",
   "pygments_lexer": "ipython3",
   "version": "3.12.4"
  }
 },
 "nbformat": 4,
 "nbformat_minor": 5
}
