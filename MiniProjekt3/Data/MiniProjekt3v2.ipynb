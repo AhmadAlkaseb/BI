{
 "cells": [
  {
   "cell_type": "code",
   "execution_count": 1,
   "id": "8cf2a251-8edb-4d35-8591-2debcbf05862",
   "metadata": {},
   "outputs": [],
   "source": [
    "import pandas as pd"
   ]
  },
  {
   "cell_type": "code",
   "execution_count": 3,
   "id": "40f18bb1-9f00-4eec-97bb-2eef714f4769",
   "metadata": {},
   "outputs": [],
   "source": [
    "df = pd.read_csv('https://raw.githubusercontent.com/washingtonpost/data-school-shootings/master/school-shootings-data.csv')"
   ]
  },
  {
   "cell_type": "code",
   "execution_count": null,
   "id": "00085c98-aab1-4866-8c46-08116a22c076",
   "metadata": {},
   "outputs": [],
   "source": []
  }
 ],
 "metadata": {
  "kernelspec": {
   "display_name": "Python 3 (ipykernel)",
   "language": "python",
   "name": "python3"
  },
  "language_info": {
   "codemirror_mode": {
    "name": "ipython",
    "version": 3
   },
   "file_extension": ".py",
   "mimetype": "text/x-python",
   "name": "python",
   "nbconvert_exporter": "python",
   "pygments_lexer": "ipython3",
   "version": "3.12.4"
  }
 },
 "nbformat": 4,
 "nbformat_minor": 5
}
