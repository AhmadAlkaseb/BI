{
 "cells": [
  {
   "metadata": {},
   "cell_type": "markdown",
   "source": [
    "# Mini Project 2: Data Exploration and Engineering \n",
    "### by Ahmad & Hanni.\n",
    "  \n",
    "The objective of this assignment is to enable you to build and train skills in business data exploration and\n",
    "analysis by applying methods from statistics."
   ],
   "id": "5016b49f857e601e"
  },
  {
   "metadata": {
    "ExecuteTime": {
     "end_time": "2024-09-06T08:33:12.046903Z",
     "start_time": "2024-09-06T08:33:10.740693Z"
    }
   },
   "cell_type": "code",
   "source": [
    "# libraries we need to import\n",
    "import pandas as pd"
   ],
   "id": "af6f272f52822843",
   "outputs": [],
   "execution_count": 3
  },
  {
   "metadata": {
    "ExecuteTime": {
     "end_time": "2024-09-06T08:42:14.979228Z",
     "start_time": "2024-09-06T08:42:14.820523Z"
    }
   },
   "cell_type": "code",
   "source": [
    "# The data urls that contain the data\n",
    "data_red = 'https://raw.githubusercontent.com/foxdocs/cph-bi-2024/main/Data/UCL-Wine/winequality-red.csv'\n",
    "data_white = 'https://raw.githubusercontent.com/foxdocs/cph-bi-2024/main/Data/UCL-Wine/winequality-white.csv'\n",
    "\n",
    "# Load the data\n",
    "df_red = pd.read_csv(data_red)\n",
    "df_white = pd.read_csv(data_white)"
   ],
   "id": "409e2b7048a686",
   "outputs": [],
   "execution_count": 8
  },
  {
   "metadata": {
    "ExecuteTime": {
     "end_time": "2024-09-06T08:43:24.677155Z",
     "start_time": "2024-09-06T08:43:24.668499Z"
    }
   },
   "cell_type": "code",
   "source": [
    "# Check if there's any missing data\n",
    "df_red.isnull().sum()\n",
    "df_white.isnull().sum()"
   ],
   "id": "a8923fb18267bc86",
   "outputs": [
    {
     "data": {
      "text/plain": [
       "fixed acidity;\"volatile acidity\";\"citric acid\";\"residual sugar\";\"chlorides\";\"free sulfur dioxide\";\"total sulfur dioxide\";\"density\";\"pH\";\"sulphates\";\"alcohol\";\"quality\"    0\n",
       "dtype: int64"
      ]
     },
     "execution_count": 12,
     "metadata": {},
     "output_type": "execute_result"
    }
   ],
   "execution_count": 12
  },
  {
   "metadata": {
    "ExecuteTime": {
     "end_time": "2024-09-06T08:43:34.073972Z",
     "start_time": "2024-09-06T08:43:34.059262Z"
    }
   },
   "cell_type": "code",
   "source": [
    "# There's not missing data. Let's check if there's any that are not NA\n",
    "df_red.isna().sum()\n",
    "df_white.isna().sum()"
   ],
   "id": "ba0e77c27570f3f6",
   "outputs": [
    {
     "data": {
      "text/plain": [
       "fixed acidity;\"volatile acidity\";\"citric acid\";\"residual sugar\";\"chlorides\";\"free sulfur dioxide\";\"total sulfur dioxide\";\"density\";\"pH\";\"sulphates\";\"alcohol\";\"quality\"    0\n",
       "dtype: int64"
      ]
     },
     "execution_count": 13,
     "metadata": {},
     "output_type": "execute_result"
    }
   ],
   "execution_count": 13
  },
  {
   "metadata": {},
   "cell_type": "code",
   "outputs": [],
   "execution_count": null,
   "source": "",
   "id": "59f796d26ca41841"
  }
 ],
 "metadata": {
  "kernelspec": {
   "display_name": "Python 3",
   "language": "python",
   "name": "python3"
  },
  "language_info": {
   "codemirror_mode": {
    "name": "ipython",
    "version": 2
   },
   "file_extension": ".py",
   "mimetype": "text/x-python",
   "name": "python",
   "nbconvert_exporter": "python",
   "pygments_lexer": "ipython2",
   "version": "2.7.6"
  }
 },
 "nbformat": 4,
 "nbformat_minor": 5
}
